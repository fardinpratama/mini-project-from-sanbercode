{
  "nbformat": 4,
  "nbformat_minor": 0,
  "metadata": {
    "kernelspec": {
      "display_name": "Python 3",
      "language": "python",
      "name": "python3"
    },
    "language_info": {
      "codemirror_mode": {
        "name": "ipython",
        "version": 3
      },
      "file_extension": ".py",
      "mimetype": "text/x-python",
      "name": "python",
      "nbconvert_exporter": "python",
      "pygments_lexer": "ipython3",
      "version": "3.7.6"
    },
    "colab": {
      "name": "mini-project-1-dan-2-week-1.ipynb",
      "provenance": [],
      "include_colab_link": true
    }
  },
  "cells": [
    {
      "cell_type": "markdown",
      "metadata": {
        "id": "view-in-github",
        "colab_type": "text"
      },
      "source": [
        "<a href=\"https://colab.research.google.com/github/fardinpratama/mini-project-from-sanbercode/blob/master/mini_project_1_dan_2_week_1.ipynb\" target=\"_parent\"><img src=\"https://colab.research.google.com/assets/colab-badge.svg\" alt=\"Open In Colab\"/></a>"
      ]
    },
    {
      "cell_type": "code",
      "metadata": {
        "id": "LuPTe1_P8obf",
        "colab_type": "code",
        "outputId": "ce3344ef-be53-45b9-f61f-acab0b497362",
        "colab": {
          "base_uri": "https://localhost:8080/",
          "height": 85
        }
      },
      "source": [
        "# import library\n",
        "from datetime import datetime\n",
        "import random\n",
        "\n",
        "# ganti dengan sebuah nama\n",
        "nama  = \"Fardin\"\n",
        "# variabel tanggal\n",
        "tanggal = datetime.now().day\n",
        "# default variabel untuk pertanyaan tidak diketahui\n",
        "default = \"maaf, aku tidak tahu jawaban dari pertanyaanmu\"\n",
        "\n",
        "# Membuat objek dictionary berisi berbagai opsi jawaban\n",
        "\n",
        "# list jawaban untuk pertanyaan tentang nama\n",
        "jawaban_nama = [\n",
        "      \"nama saya  {0}\".format(nama),\n",
        "      \"orang-orang memanggil saya {0}\".format(nama),\n",
        "      \"panggil saja saya {0}\".format(nama)\n",
        "   ]\n",
        "\n",
        "# list jawaban untuk pertanyaan tentang tanggal\n",
        "jawaban_tanggal = [\n",
        "      \"hari ini tanggal {0}\".format(tanggal),\n",
        "      \"ya ampun masa tidak tahu, hari ini tanggal {0}\".format(tanggal)\n",
        "    ]\n",
        "\n",
        "# opsi pertanyaan yang bisa dijawab\n",
        "pertanyaan = {\n",
        "  \"nama kamu siapa?\": jawaban_nama,\n",
        "  \"kamu siapa?\" : jawaban_nama,\n",
        "  \"tanggal berapa hari ini?\": jawaban_tanggal,\n",
        "  \"hari ini tanggal berapa?\" : jawaban_tanggal,\n",
        "  \"default\": default,\n",
        "}\n",
        "\n",
        "# list jawaban untuk sebuah argument selain pertanyaan\n",
        "statement =  [\n",
        "                  'ceritakan lebih banyak!',\n",
        "                  'kenapa kamu berpikir begitu?',\n",
        "                  'sudah berapa lama kamu merasa seperti ini?',\n",
        "                  'Itu sangat menarik!',\n",
        "                  'oh wow!',\n",
        "                  ':)'\n",
        "              ]\n",
        "\n",
        "# respon keseluruhan\n",
        "responses = {\n",
        "    'pertanyaan' : pertanyaan,\n",
        "    'statement' : statement\n",
        "}\n",
        "#------\n",
        "             \n",
        "# ayo buat chatbotmu\n",
        "def chatbot(message):\n",
        "    if \"?\" in message:\n",
        "        for key, value in responses['pertanyaan'].items():\n",
        "            if key == message :\n",
        "                return random.choice(value)\n",
        "        else :\n",
        "            return default\n",
        "    else: \n",
        "        return random.choice(responses['statement'])\n",
        "\n",
        "print(chatbot('Selamat Pagi'))\n",
        "print(chatbot('Mau bermain bersamaku?'))\n",
        "print(chatbot('nama kamu siapa?'))\n",
        "print(chatbot('hari ini tanggal berapa?'))"
      ],
      "execution_count": 0,
      "outputs": [
        {
          "output_type": "stream",
          "text": [
            ":)\n",
            "maaf, aku tidak tahu jawaban dari pertanyaanmu\n",
            "panggil saja saya Fardin\n",
            "ya ampun masa tidak tahu, hari ini tanggal 26\n"
          ],
          "name": "stdout"
        }
      ]
    },
    {
      "cell_type": "code",
      "metadata": {
        "id": "nh93oknM8obz",
        "colab_type": "code",
        "outputId": "291973c2-4c6b-40db-e60a-ae55664c096b",
        "colab": {}
      },
      "source": [
        "# solusi tanpa menggunakan set\n",
        "def remove_duplicate(obj_list):\n",
        "    new_list = obj_list.copy()\n",
        "    for key,value in enumerate(obj_list):\n",
        "        if value in obj_list[key+1:]:\n",
        "            new_list.remove(value)\n",
        "    return sorted(new_list)\n",
        "\n",
        "# solusi dengan menggunakan set\n",
        "obj_list = [1, 2, 4, 6, 2, 1, 4, 5, 7, 8, 6]\n",
        "def remove_duplicate_with_set(obj_list):\n",
        "    new_list = set(obj_list)\n",
        "    new_list = list(new_list)\n",
        "    return sorted(new_list)\n",
        "\n",
        "print(remove_duplicate(obj_list))\n",
        "print(remove_duplicate_with_set(obj_list))"
      ],
      "execution_count": 0,
      "outputs": [
        {
          "output_type": "stream",
          "text": [
            "[1, 2, 4, 5, 6, 7, 8]\n",
            "[1, 2, 4, 5, 6, 7, 8]\n"
          ],
          "name": "stdout"
        }
      ]
    },
    {
      "cell_type": "code",
      "metadata": {
        "id": "N5a0N4Xb8ocA",
        "colab_type": "code",
        "colab": {}
      },
      "source": [
        ""
      ],
      "execution_count": 0,
      "outputs": []
    }
  ]
}