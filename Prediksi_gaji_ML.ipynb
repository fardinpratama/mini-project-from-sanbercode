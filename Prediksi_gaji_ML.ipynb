{
  "nbformat": 4,
  "nbformat_minor": 0,
  "metadata": {
    "kernelspec": {
      "display_name": "Python 3",
      "language": "python",
      "name": "python3"
    },
    "language_info": {
      "codemirror_mode": {
        "name": "ipython",
        "version": 3
      },
      "file_extension": ".py",
      "mimetype": "text/x-python",
      "name": "python",
      "nbconvert_exporter": "python",
      "pygments_lexer": "ipython3",
      "version": "3.7.6"
    },
    "colab": {
      "name": "Prediksi_gaji_ML.ipynb",
      "provenance": [],
      "include_colab_link": true
    }
  },
  "cells": [
    {
      "cell_type": "markdown",
      "metadata": {
        "id": "view-in-github",
        "colab_type": "text"
      },
      "source": [
        "<a href=\"https://colab.research.google.com/github/fardinpratama/mini-project-from-sanbercode/blob/master/Prediksi_gaji_ML.ipynb\" target=\"_parent\"><img src=\"https://colab.research.google.com/assets/colab-badge.svg\" alt=\"Open In Colab\"/></a>"
      ]
    },
    {
      "cell_type": "markdown",
      "metadata": {
        "id": "tJQAGeI0ODwy",
        "colab_type": "text"
      },
      "source": [
        "# <h1><center> Prediksi probabilitas gaji seseorang di atas 5 juta </center> </h1>"
      ]
    },
    {
      "cell_type": "code",
      "metadata": {
        "id": "tmYcIYWkOZBD",
        "colab_type": "code",
        "colab": {
          "base_uri": "https://localhost:8080/",
          "height": 34
        },
        "outputId": "ad42b2b5-0427-4ef5-cbe4-a8dbc1d7327a"
      },
      "source": [
        "from google.colab import drive\n",
        "drive.mount('/content/drive')"
      ],
      "execution_count": 2,
      "outputs": [
        {
          "output_type": "stream",
          "text": [
            "Drive already mounted at /content/drive; to attempt to forcibly remount, call drive.mount(\"/content/drive\", force_remount=True).\n"
          ],
          "name": "stdout"
        }
      ]
    },
    {
      "cell_type": "code",
      "metadata": {
        "id": "jm-kMq_IODw4",
        "colab_type": "code",
        "colab": {}
      },
      "source": [
        "#import libary\n",
        "import pandas as pd\n",
        "from sklearn.linear_model import LinearRegression\n",
        "from sklearn.model_selection import train_test_split, cross_val_score"
      ],
      "execution_count": 0,
      "outputs": []
    },
    {
      "cell_type": "code",
      "metadata": {
        "id": "auOV_kzCODxE",
        "colab_type": "code",
        "colab": {
          "base_uri": "https://localhost:8080/",
          "height": 289
        },
        "outputId": "d594ca27-cdaa-4d15-bf1d-99363f79c1a1"
      },
      "source": [
        "df_train  = pd.read_csv('/content/drive/My Drive/Untitled Folder/Pendapatan.csv')\n",
        "df_train.head()"
      ],
      "execution_count": 5,
      "outputs": [
        {
          "output_type": "execute_result",
          "data": {
            "text/html": [
              "<div>\n",
              "<style scoped>\n",
              "    .dataframe tbody tr th:only-of-type {\n",
              "        vertical-align: middle;\n",
              "    }\n",
              "\n",
              "    .dataframe tbody tr th {\n",
              "        vertical-align: top;\n",
              "    }\n",
              "\n",
              "    .dataframe thead th {\n",
              "        text-align: right;\n",
              "    }\n",
              "</style>\n",
              "<table border=\"1\" class=\"dataframe\">\n",
              "  <thead>\n",
              "    <tr style=\"text-align: right;\">\n",
              "      <th></th>\n",
              "      <th>id</th>\n",
              "      <th>Umur</th>\n",
              "      <th>Kelas Pekerja</th>\n",
              "      <th>Berat Akhir</th>\n",
              "      <th>Pendidikan</th>\n",
              "      <th>Jmlh Tahun Pendidikan</th>\n",
              "      <th>Status Perkawinan</th>\n",
              "      <th>Pekerjaan</th>\n",
              "      <th>Jenis Kelamin</th>\n",
              "      <th>Keuntungan Kapital</th>\n",
              "      <th>Kerugian Capital</th>\n",
              "      <th>Jam per Minggu</th>\n",
              "      <th>Gaji</th>\n",
              "    </tr>\n",
              "  </thead>\n",
              "  <tbody>\n",
              "    <tr>\n",
              "      <th>0</th>\n",
              "      <td>27247</td>\n",
              "      <td>59</td>\n",
              "      <td>Pemerintah Negara</td>\n",
              "      <td>139616</td>\n",
              "      <td>Master</td>\n",
              "      <td>14</td>\n",
              "      <td>Menikah</td>\n",
              "      <td>Ekesekutif Managerial</td>\n",
              "      <td>Laki2</td>\n",
              "      <td>0.0</td>\n",
              "      <td>0.0</td>\n",
              "      <td>50.0</td>\n",
              "      <td>1</td>\n",
              "    </tr>\n",
              "    <tr>\n",
              "      <th>1</th>\n",
              "      <td>1640</td>\n",
              "      <td>52</td>\n",
              "      <td>Wiraswasta</td>\n",
              "      <td>158993</td>\n",
              "      <td>SMA</td>\n",
              "      <td>9</td>\n",
              "      <td>Cerai</td>\n",
              "      <td>Servis Lainnya</td>\n",
              "      <td>Perempuan</td>\n",
              "      <td>0.0</td>\n",
              "      <td>0.0</td>\n",
              "      <td>38.0</td>\n",
              "      <td>0</td>\n",
              "    </tr>\n",
              "    <tr>\n",
              "      <th>2</th>\n",
              "      <td>45206</td>\n",
              "      <td>52</td>\n",
              "      <td>Pekerja Bebas Bukan Perusahan</td>\n",
              "      <td>284648</td>\n",
              "      <td>SMA</td>\n",
              "      <td>9</td>\n",
              "      <td>Cerai</td>\n",
              "      <td>Ekesekutif Managerial</td>\n",
              "      <td>Perempuan</td>\n",
              "      <td>0.0</td>\n",
              "      <td>0.0</td>\n",
              "      <td>99.0</td>\n",
              "      <td>1</td>\n",
              "    </tr>\n",
              "    <tr>\n",
              "      <th>3</th>\n",
              "      <td>16154</td>\n",
              "      <td>45</td>\n",
              "      <td>Wiraswasta</td>\n",
              "      <td>132847</td>\n",
              "      <td>SMA</td>\n",
              "      <td>9</td>\n",
              "      <td>Belum Pernah Menikah</td>\n",
              "      <td>Pembersih</td>\n",
              "      <td>Perempuan</td>\n",
              "      <td>0.0</td>\n",
              "      <td>0.0</td>\n",
              "      <td>40.0</td>\n",
              "      <td>0</td>\n",
              "    </tr>\n",
              "    <tr>\n",
              "      <th>4</th>\n",
              "      <td>43023</td>\n",
              "      <td>28</td>\n",
              "      <td>Wiraswasta</td>\n",
              "      <td>103432</td>\n",
              "      <td>SMA</td>\n",
              "      <td>9</td>\n",
              "      <td>Belum Pernah Menikah</td>\n",
              "      <td>Supir</td>\n",
              "      <td>Laki2</td>\n",
              "      <td>0.0</td>\n",
              "      <td>0.0</td>\n",
              "      <td>45.0</td>\n",
              "      <td>1</td>\n",
              "    </tr>\n",
              "  </tbody>\n",
              "</table>\n",
              "</div>"
            ],
            "text/plain": [
              "      id  Umur  ... Jam per Minggu  Gaji\n",
              "0  27247    59  ...           50.0     1\n",
              "1   1640    52  ...           38.0     0\n",
              "2  45206    52  ...           99.0     1\n",
              "3  16154    45  ...           40.0     0\n",
              "4  43023    28  ...           45.0     1\n",
              "\n",
              "[5 rows x 13 columns]"
            ]
          },
          "metadata": {
            "tags": []
          },
          "execution_count": 5
        }
      ]
    },
    {
      "cell_type": "markdown",
      "metadata": {
        "id": "cEzcMuEQODxQ",
        "colab_type": "text"
      },
      "source": [
        "keterangan : <br>\n",
        " 0 : Gaji <= 5jt <br>\n",
        " 1 : Gaji > 5jt"
      ]
    },
    {
      "cell_type": "markdown",
      "metadata": {
        "id": "Y0xD_uJ8ODxS",
        "colab_type": "text"
      },
      "source": [
        "# Preprocessing Data"
      ]
    },
    {
      "cell_type": "code",
      "metadata": {
        "id": "RT05LFnlODxV",
        "colab_type": "code",
        "colab": {}
      },
      "source": [
        "df_train['Jenis Kelamin'] = df_train['Jenis Kelamin'].replace(['Laki2', 'Perempuan'],[1,0])\n",
        "columns = ['Kelas Pekerja','Status Perkawinan','Pekerjaan','Pendidikan']\n",
        "df_train = pd.get_dummies(df_train,columns=columns )"
      ],
      "execution_count": 0,
      "outputs": []
    },
    {
      "cell_type": "code",
      "metadata": {
        "id": "HgCyDEipODxh",
        "colab_type": "code",
        "colab": {},
        "outputId": "a84334c7-ddae-4f41-9595-8e7f817c4d65"
      },
      "source": [
        "df_train.head()"
      ],
      "execution_count": 0,
      "outputs": [
        {
          "output_type": "execute_result",
          "data": {
            "text/html": [
              "<div>\n",
              "<style scoped>\n",
              "    .dataframe tbody tr th:only-of-type {\n",
              "        vertical-align: middle;\n",
              "    }\n",
              "\n",
              "    .dataframe tbody tr th {\n",
              "        vertical-align: top;\n",
              "    }\n",
              "\n",
              "    .dataframe thead th {\n",
              "        text-align: right;\n",
              "    }\n",
              "</style>\n",
              "<table border=\"1\" class=\"dataframe\">\n",
              "  <thead>\n",
              "    <tr style=\"text-align: right;\">\n",
              "      <th></th>\n",
              "      <th>id</th>\n",
              "      <th>Umur</th>\n",
              "      <th>Berat Akhir</th>\n",
              "      <th>Jmlh Tahun Pendidikan</th>\n",
              "      <th>Jenis Kelamin</th>\n",
              "      <th>Keuntungan Kapital</th>\n",
              "      <th>Kerugian Capital</th>\n",
              "      <th>Jam per Minggu</th>\n",
              "      <th>Gaji</th>\n",
              "      <th>Kelas Pekerja_?</th>\n",
              "      <th>...</th>\n",
              "      <th>Pendidikan_9th</th>\n",
              "      <th>Pendidikan_D3</th>\n",
              "      <th>Pendidikan_D4</th>\n",
              "      <th>Pendidikan_Doktor</th>\n",
              "      <th>Pendidikan_Master</th>\n",
              "      <th>Pendidikan_Pendidikan Tinggi</th>\n",
              "      <th>Pendidikan_SD</th>\n",
              "      <th>Pendidikan_SMA</th>\n",
              "      <th>Pendidikan_Sarjana</th>\n",
              "      <th>Pendidikan_Sekolah Professional</th>\n",
              "    </tr>\n",
              "  </thead>\n",
              "  <tbody>\n",
              "    <tr>\n",
              "      <th>0</th>\n",
              "      <td>27247</td>\n",
              "      <td>59</td>\n",
              "      <td>139616</td>\n",
              "      <td>14</td>\n",
              "      <td>1</td>\n",
              "      <td>0.0</td>\n",
              "      <td>0.0</td>\n",
              "      <td>50.0</td>\n",
              "      <td>1</td>\n",
              "      <td>0</td>\n",
              "      <td>...</td>\n",
              "      <td>0</td>\n",
              "      <td>0</td>\n",
              "      <td>0</td>\n",
              "      <td>0</td>\n",
              "      <td>1</td>\n",
              "      <td>0</td>\n",
              "      <td>0</td>\n",
              "      <td>0</td>\n",
              "      <td>0</td>\n",
              "      <td>0</td>\n",
              "    </tr>\n",
              "    <tr>\n",
              "      <th>1</th>\n",
              "      <td>1640</td>\n",
              "      <td>52</td>\n",
              "      <td>158993</td>\n",
              "      <td>9</td>\n",
              "      <td>0</td>\n",
              "      <td>0.0</td>\n",
              "      <td>0.0</td>\n",
              "      <td>38.0</td>\n",
              "      <td>0</td>\n",
              "      <td>0</td>\n",
              "      <td>...</td>\n",
              "      <td>0</td>\n",
              "      <td>0</td>\n",
              "      <td>0</td>\n",
              "      <td>0</td>\n",
              "      <td>0</td>\n",
              "      <td>0</td>\n",
              "      <td>0</td>\n",
              "      <td>1</td>\n",
              "      <td>0</td>\n",
              "      <td>0</td>\n",
              "    </tr>\n",
              "    <tr>\n",
              "      <th>2</th>\n",
              "      <td>45206</td>\n",
              "      <td>52</td>\n",
              "      <td>284648</td>\n",
              "      <td>9</td>\n",
              "      <td>0</td>\n",
              "      <td>0.0</td>\n",
              "      <td>0.0</td>\n",
              "      <td>99.0</td>\n",
              "      <td>1</td>\n",
              "      <td>0</td>\n",
              "      <td>...</td>\n",
              "      <td>0</td>\n",
              "      <td>0</td>\n",
              "      <td>0</td>\n",
              "      <td>0</td>\n",
              "      <td>0</td>\n",
              "      <td>0</td>\n",
              "      <td>0</td>\n",
              "      <td>1</td>\n",
              "      <td>0</td>\n",
              "      <td>0</td>\n",
              "    </tr>\n",
              "    <tr>\n",
              "      <th>3</th>\n",
              "      <td>16154</td>\n",
              "      <td>45</td>\n",
              "      <td>132847</td>\n",
              "      <td>9</td>\n",
              "      <td>0</td>\n",
              "      <td>0.0</td>\n",
              "      <td>0.0</td>\n",
              "      <td>40.0</td>\n",
              "      <td>0</td>\n",
              "      <td>0</td>\n",
              "      <td>...</td>\n",
              "      <td>0</td>\n",
              "      <td>0</td>\n",
              "      <td>0</td>\n",
              "      <td>0</td>\n",
              "      <td>0</td>\n",
              "      <td>0</td>\n",
              "      <td>0</td>\n",
              "      <td>1</td>\n",
              "      <td>0</td>\n",
              "      <td>0</td>\n",
              "    </tr>\n",
              "    <tr>\n",
              "      <th>4</th>\n",
              "      <td>43023</td>\n",
              "      <td>28</td>\n",
              "      <td>103432</td>\n",
              "      <td>9</td>\n",
              "      <td>1</td>\n",
              "      <td>0.0</td>\n",
              "      <td>0.0</td>\n",
              "      <td>45.0</td>\n",
              "      <td>1</td>\n",
              "      <td>0</td>\n",
              "      <td>...</td>\n",
              "      <td>0</td>\n",
              "      <td>0</td>\n",
              "      <td>0</td>\n",
              "      <td>0</td>\n",
              "      <td>0</td>\n",
              "      <td>0</td>\n",
              "      <td>0</td>\n",
              "      <td>1</td>\n",
              "      <td>0</td>\n",
              "      <td>0</td>\n",
              "    </tr>\n",
              "  </tbody>\n",
              "</table>\n",
              "<p>5 rows × 55 columns</p>\n",
              "</div>"
            ],
            "text/plain": [
              "      id  Umur  Berat Akhir  Jmlh Tahun Pendidikan  Jenis Kelamin  \\\n",
              "0  27247    59       139616                     14              1   \n",
              "1   1640    52       158993                      9              0   \n",
              "2  45206    52       284648                      9              0   \n",
              "3  16154    45       132847                      9              0   \n",
              "4  43023    28       103432                      9              1   \n",
              "\n",
              "   Keuntungan Kapital  Kerugian Capital  Jam per Minggu  Gaji  \\\n",
              "0                 0.0               0.0            50.0     1   \n",
              "1                 0.0               0.0            38.0     0   \n",
              "2                 0.0               0.0            99.0     1   \n",
              "3                 0.0               0.0            40.0     0   \n",
              "4                 0.0               0.0            45.0     1   \n",
              "\n",
              "   Kelas Pekerja_?  ...  Pendidikan_9th  Pendidikan_D3  Pendidikan_D4  \\\n",
              "0                0  ...               0              0              0   \n",
              "1                0  ...               0              0              0   \n",
              "2                0  ...               0              0              0   \n",
              "3                0  ...               0              0              0   \n",
              "4                0  ...               0              0              0   \n",
              "\n",
              "   Pendidikan_Doktor  Pendidikan_Master  Pendidikan_Pendidikan Tinggi  \\\n",
              "0                  0                  1                             0   \n",
              "1                  0                  0                             0   \n",
              "2                  0                  0                             0   \n",
              "3                  0                  0                             0   \n",
              "4                  0                  0                             0   \n",
              "\n",
              "   Pendidikan_SD  Pendidikan_SMA  Pendidikan_Sarjana  \\\n",
              "0              0               0                   0   \n",
              "1              0               1                   0   \n",
              "2              0               1                   0   \n",
              "3              0               1                   0   \n",
              "4              0               1                   0   \n",
              "\n",
              "   Pendidikan_Sekolah Professional  \n",
              "0                                0  \n",
              "1                                0  \n",
              "2                                0  \n",
              "3                                0  \n",
              "4                                0  \n",
              "\n",
              "[5 rows x 55 columns]"
            ]
          },
          "metadata": {
            "tags": []
          },
          "execution_count": 7
        }
      ]
    },
    {
      "cell_type": "code",
      "metadata": {
        "id": "H3B87mxqODxs",
        "colab_type": "code",
        "colab": {}
      },
      "source": [
        "#standarisasi\n",
        "from sklearn.preprocessing import StandardScaler\n",
        "stdscaler = StandardScaler()\n",
        "datscaler = stdscaler.fit_transform(df_train.drop(columns='Gaji'))"
      ],
      "execution_count": 0,
      "outputs": []
    },
    {
      "cell_type": "code",
      "metadata": {
        "id": "2aCGkhHwODx1",
        "colab_type": "code",
        "colab": {}
      },
      "source": [
        "columns = list(df_train.drop(columns='Gaji').columns)\n",
        "dfScaler = pd.DataFrame(data=datscaler, columns=columns)"
      ],
      "execution_count": 0,
      "outputs": []
    },
    {
      "cell_type": "code",
      "metadata": {
        "id": "agXxcN6dODyA",
        "colab_type": "code",
        "colab": {},
        "outputId": "d8fc25d4-226d-4d34-db85-9626d1d0baa9"
      },
      "source": [
        "dfScaler.head()"
      ],
      "execution_count": 0,
      "outputs": [
        {
          "output_type": "execute_result",
          "data": {
            "text/html": [
              "<div>\n",
              "<style scoped>\n",
              "    .dataframe tbody tr th:only-of-type {\n",
              "        vertical-align: middle;\n",
              "    }\n",
              "\n",
              "    .dataframe tbody tr th {\n",
              "        vertical-align: top;\n",
              "    }\n",
              "\n",
              "    .dataframe thead th {\n",
              "        text-align: right;\n",
              "    }\n",
              "</style>\n",
              "<table border=\"1\" class=\"dataframe\">\n",
              "  <thead>\n",
              "    <tr style=\"text-align: right;\">\n",
              "      <th></th>\n",
              "      <th>id</th>\n",
              "      <th>Umur</th>\n",
              "      <th>Berat Akhir</th>\n",
              "      <th>Jmlh Tahun Pendidikan</th>\n",
              "      <th>Jenis Kelamin</th>\n",
              "      <th>Keuntungan Kapital</th>\n",
              "      <th>Kerugian Capital</th>\n",
              "      <th>Jam per Minggu</th>\n",
              "      <th>Kelas Pekerja_?</th>\n",
              "      <th>Kelas Pekerja_Pekerja Bebas Bukan Perusahan</th>\n",
              "      <th>...</th>\n",
              "      <th>Pendidikan_9th</th>\n",
              "      <th>Pendidikan_D3</th>\n",
              "      <th>Pendidikan_D4</th>\n",
              "      <th>Pendidikan_Doktor</th>\n",
              "      <th>Pendidikan_Master</th>\n",
              "      <th>Pendidikan_Pendidikan Tinggi</th>\n",
              "      <th>Pendidikan_SD</th>\n",
              "      <th>Pendidikan_SMA</th>\n",
              "      <th>Pendidikan_Sarjana</th>\n",
              "      <th>Pendidikan_Sekolah Professional</th>\n",
              "    </tr>\n",
              "  </thead>\n",
              "  <tbody>\n",
              "    <tr>\n",
              "      <th>0</th>\n",
              "      <td>0.232971</td>\n",
              "      <td>1.484251</td>\n",
              "      <td>-0.474617</td>\n",
              "      <td>1.521522</td>\n",
              "      <td>0.702443</td>\n",
              "      <td>-0.145415</td>\n",
              "      <td>-0.216012</td>\n",
              "      <td>0.772005</td>\n",
              "      <td>-0.246784</td>\n",
              "      <td>-0.294913</td>\n",
              "      <td>...</td>\n",
              "      <td>-0.126426</td>\n",
              "      <td>-0.184207</td>\n",
              "      <td>-0.208738</td>\n",
              "      <td>-0.112163</td>\n",
              "      <td>4.164556</td>\n",
              "      <td>-0.534411</td>\n",
              "      <td>-0.040863</td>\n",
              "      <td>-0.691924</td>\n",
              "      <td>-0.443904</td>\n",
              "      <td>-0.132865</td>\n",
              "    </tr>\n",
              "    <tr>\n",
              "      <th>1</th>\n",
              "      <td>-1.612993</td>\n",
              "      <td>0.973097</td>\n",
              "      <td>-0.291080</td>\n",
              "      <td>-0.420596</td>\n",
              "      <td>-1.423603</td>\n",
              "      <td>-0.145415</td>\n",
              "      <td>-0.216012</td>\n",
              "      <td>-0.197102</td>\n",
              "      <td>-0.246784</td>\n",
              "      <td>-0.294913</td>\n",
              "      <td>...</td>\n",
              "      <td>-0.126426</td>\n",
              "      <td>-0.184207</td>\n",
              "      <td>-0.208738</td>\n",
              "      <td>-0.112163</td>\n",
              "      <td>-0.240122</td>\n",
              "      <td>-0.534411</td>\n",
              "      <td>-0.040863</td>\n",
              "      <td>1.445246</td>\n",
              "      <td>-0.443904</td>\n",
              "      <td>-0.132865</td>\n",
              "    </tr>\n",
              "    <tr>\n",
              "      <th>2</th>\n",
              "      <td>1.527605</td>\n",
              "      <td>0.973097</td>\n",
              "      <td>0.899116</td>\n",
              "      <td>-0.420596</td>\n",
              "      <td>-1.423603</td>\n",
              "      <td>-0.145415</td>\n",
              "      <td>-0.216012</td>\n",
              "      <td>4.729191</td>\n",
              "      <td>-0.246784</td>\n",
              "      <td>3.390829</td>\n",
              "      <td>...</td>\n",
              "      <td>-0.126426</td>\n",
              "      <td>-0.184207</td>\n",
              "      <td>-0.208738</td>\n",
              "      <td>-0.112163</td>\n",
              "      <td>-0.240122</td>\n",
              "      <td>-0.534411</td>\n",
              "      <td>-0.040863</td>\n",
              "      <td>1.445246</td>\n",
              "      <td>-0.443904</td>\n",
              "      <td>-0.132865</td>\n",
              "    </tr>\n",
              "    <tr>\n",
              "      <th>3</th>\n",
              "      <td>-0.566704</td>\n",
              "      <td>0.461943</td>\n",
              "      <td>-0.538733</td>\n",
              "      <td>-0.420596</td>\n",
              "      <td>-1.423603</td>\n",
              "      <td>-0.145415</td>\n",
              "      <td>-0.216012</td>\n",
              "      <td>-0.035585</td>\n",
              "      <td>-0.246784</td>\n",
              "      <td>-0.294913</td>\n",
              "      <td>...</td>\n",
              "      <td>-0.126426</td>\n",
              "      <td>-0.184207</td>\n",
              "      <td>-0.208738</td>\n",
              "      <td>-0.112163</td>\n",
              "      <td>-0.240122</td>\n",
              "      <td>-0.534411</td>\n",
              "      <td>-0.040863</td>\n",
              "      <td>1.445246</td>\n",
              "      <td>-0.443904</td>\n",
              "      <td>-0.132865</td>\n",
              "    </tr>\n",
              "    <tr>\n",
              "      <th>4</th>\n",
              "      <td>1.370236</td>\n",
              "      <td>-0.779432</td>\n",
              "      <td>-0.817350</td>\n",
              "      <td>-0.420596</td>\n",
              "      <td>0.702443</td>\n",
              "      <td>-0.145415</td>\n",
              "      <td>-0.216012</td>\n",
              "      <td>0.368210</td>\n",
              "      <td>-0.246784</td>\n",
              "      <td>-0.294913</td>\n",
              "      <td>...</td>\n",
              "      <td>-0.126426</td>\n",
              "      <td>-0.184207</td>\n",
              "      <td>-0.208738</td>\n",
              "      <td>-0.112163</td>\n",
              "      <td>-0.240122</td>\n",
              "      <td>-0.534411</td>\n",
              "      <td>-0.040863</td>\n",
              "      <td>1.445246</td>\n",
              "      <td>-0.443904</td>\n",
              "      <td>-0.132865</td>\n",
              "    </tr>\n",
              "  </tbody>\n",
              "</table>\n",
              "<p>5 rows × 54 columns</p>\n",
              "</div>"
            ],
            "text/plain": [
              "         id      Umur  Berat Akhir  Jmlh Tahun Pendidikan  Jenis Kelamin  \\\n",
              "0  0.232971  1.484251    -0.474617               1.521522       0.702443   \n",
              "1 -1.612993  0.973097    -0.291080              -0.420596      -1.423603   \n",
              "2  1.527605  0.973097     0.899116              -0.420596      -1.423603   \n",
              "3 -0.566704  0.461943    -0.538733              -0.420596      -1.423603   \n",
              "4  1.370236 -0.779432    -0.817350              -0.420596       0.702443   \n",
              "\n",
              "   Keuntungan Kapital  Kerugian Capital  Jam per Minggu  Kelas Pekerja_?  \\\n",
              "0           -0.145415         -0.216012        0.772005        -0.246784   \n",
              "1           -0.145415         -0.216012       -0.197102        -0.246784   \n",
              "2           -0.145415         -0.216012        4.729191        -0.246784   \n",
              "3           -0.145415         -0.216012       -0.035585        -0.246784   \n",
              "4           -0.145415         -0.216012        0.368210        -0.246784   \n",
              "\n",
              "   Kelas Pekerja_Pekerja Bebas Bukan Perusahan  ...  Pendidikan_9th  \\\n",
              "0                                    -0.294913  ...       -0.126426   \n",
              "1                                    -0.294913  ...       -0.126426   \n",
              "2                                     3.390829  ...       -0.126426   \n",
              "3                                    -0.294913  ...       -0.126426   \n",
              "4                                    -0.294913  ...       -0.126426   \n",
              "\n",
              "   Pendidikan_D3  Pendidikan_D4  Pendidikan_Doktor  Pendidikan_Master  \\\n",
              "0      -0.184207      -0.208738          -0.112163           4.164556   \n",
              "1      -0.184207      -0.208738          -0.112163          -0.240122   \n",
              "2      -0.184207      -0.208738          -0.112163          -0.240122   \n",
              "3      -0.184207      -0.208738          -0.112163          -0.240122   \n",
              "4      -0.184207      -0.208738          -0.112163          -0.240122   \n",
              "\n",
              "   Pendidikan_Pendidikan Tinggi  Pendidikan_SD  Pendidikan_SMA  \\\n",
              "0                     -0.534411      -0.040863       -0.691924   \n",
              "1                     -0.534411      -0.040863        1.445246   \n",
              "2                     -0.534411      -0.040863        1.445246   \n",
              "3                     -0.534411      -0.040863        1.445246   \n",
              "4                     -0.534411      -0.040863        1.445246   \n",
              "\n",
              "   Pendidikan_Sarjana  Pendidikan_Sekolah Professional  \n",
              "0           -0.443904                        -0.132865  \n",
              "1           -0.443904                        -0.132865  \n",
              "2           -0.443904                        -0.132865  \n",
              "3           -0.443904                        -0.132865  \n",
              "4           -0.443904                        -0.132865  \n",
              "\n",
              "[5 rows x 54 columns]"
            ]
          },
          "metadata": {
            "tags": []
          },
          "execution_count": 10
        }
      ]
    },
    {
      "cell_type": "code",
      "metadata": {
        "id": "ndYj0lozODyL",
        "colab_type": "code",
        "colab": {}
      },
      "source": [
        "X_train = dfScaler.drop(columns = [\"id\"])\n",
        "y_train = df_train['Gaji']\n",
        "X_train, X_test, y_train, y_test = train_test_split(X_train,y_train, test_size=0.25,random_state=31,stratify=y_train)"
      ],
      "execution_count": 0,
      "outputs": []
    },
    {
      "cell_type": "markdown",
      "metadata": {
        "id": "SCIGigThODyU",
        "colab_type": "text"
      },
      "source": [
        "# Model K-Neighbour nearst"
      ]
    },
    {
      "cell_type": "code",
      "metadata": {
        "id": "eBgys1S-ODyW",
        "colab_type": "code",
        "colab": {}
      },
      "source": [
        "# build model\n",
        "from sklearn.neighbors import KNeighborsClassifier\n",
        "from sklearn.metrics import accuracy_score"
      ],
      "execution_count": 0,
      "outputs": []
    },
    {
      "cell_type": "code",
      "metadata": {
        "id": "5jldc9zBODyf",
        "colab_type": "code",
        "colab": {}
      },
      "source": [
        "#memilih hyperparamter\n",
        "model_KNN = KNeighborsClassifier()\n",
        "from sklearn.model_selection  import RandomizedSearchCV\n",
        "params = {\"weights\" : ('uniform', 'distance'),\n",
        "         \"n_neighbors\" : range(5,25)}\n",
        "grid = RandomizedSearchCV(\n",
        "    model_KNN,\n",
        "    params,\n",
        "    n_jobs=4,\n",
        "    n_iter =20,\n",
        "    cv=10,\n",
        "    verbose=4,\n",
        "    scoring = \"accuracy\"\n",
        ")"
      ],
      "execution_count": 0,
      "outputs": []
    },
    {
      "cell_type": "code",
      "metadata": {
        "id": "46QNp0J-ODyv",
        "colab_type": "code",
        "colab": {},
        "outputId": "6644156c-8e7f-4dba-d3b9-592fc8e0f350"
      },
      "source": [
        "clf = grid.fit(X_train, y_train)"
      ],
      "execution_count": 0,
      "outputs": [
        {
          "output_type": "stream",
          "text": [
            "Fitting 10 folds for each of 20 candidates, totalling 200 fits\n"
          ],
          "name": "stdout"
        },
        {
          "output_type": "stream",
          "text": [
            "[Parallel(n_jobs=4)]: Using backend LokyBackend with 4 concurrent workers.\n",
            "[Parallel(n_jobs=4)]: Done  17 tasks      | elapsed:  6.8min\n",
            "[Parallel(n_jobs=4)]: Done  90 tasks      | elapsed: 36.8min\n",
            "[Parallel(n_jobs=4)]: Done 200 out of 200 | elapsed: 73.3min finished\n"
          ],
          "name": "stderr"
        }
      ]
    },
    {
      "cell_type": "code",
      "metadata": {
        "id": "AQ5RYrnTODzB",
        "colab_type": "code",
        "colab": {},
        "outputId": "2646c89b-ead4-423f-f68f-3dc999238aae"
      },
      "source": [
        "clf.best_params_"
      ],
      "execution_count": 0,
      "outputs": [
        {
          "output_type": "execute_result",
          "data": {
            "text/plain": [
              "{'weights': 'uniform', 'n_neighbors': 23}"
            ]
          },
          "metadata": {
            "tags": []
          },
          "execution_count": 11
        }
      ]
    },
    {
      "cell_type": "code",
      "metadata": {
        "id": "Wt_inj1hODzL",
        "colab_type": "code",
        "colab": {},
        "outputId": "49160fb8-cbfc-4e6e-a9f0-a8404c1ada4a"
      },
      "source": [
        "model_KNN = KNeighborsClassifier(n_neighbors=23, weights='uniform')\n",
        "model_KNN.fit(X_train, y_train)"
      ],
      "execution_count": 0,
      "outputs": [
        {
          "output_type": "execute_result",
          "data": {
            "text/plain": [
              "KNeighborsClassifier(algorithm='auto', leaf_size=30, metric='minkowski',\n",
              "                     metric_params=None, n_jobs=None, n_neighbors=23, p=2,\n",
              "                     weights='uniform')"
            ]
          },
          "metadata": {
            "tags": []
          },
          "execution_count": 13
        }
      ]
    },
    {
      "cell_type": "code",
      "metadata": {
        "id": "u1WUlNyKODzU",
        "colab_type": "code",
        "colab": {}
      },
      "source": [
        "y_predict_KNN = model_KNN.predict(X_test)"
      ],
      "execution_count": 0,
      "outputs": []
    },
    {
      "cell_type": "markdown",
      "metadata": {
        "id": "NRMCHG5iODze",
        "colab_type": "text"
      },
      "source": [
        "# Model Decision tree"
      ]
    },
    {
      "cell_type": "code",
      "metadata": {
        "id": "bb9ze46xODzg",
        "colab_type": "code",
        "colab": {}
      },
      "source": [
        "#untuk decssion tree\n",
        "from sklearn.tree import DecisionTreeClassifier\n",
        "model_DCT = DecisionTreeClassifier()"
      ],
      "execution_count": 0,
      "outputs": []
    },
    {
      "cell_type": "code",
      "metadata": {
        "id": "47SgpievODzo",
        "colab_type": "code",
        "colab": {}
      },
      "source": [
        "from sklearn.model_selection  import RandomizedSearchCV\n",
        "params = {\"criterion\" : (\"gini\", \"entropy\"),\n",
        "         \"random_state\" : range(10,60),\n",
        "          \"splitter\" : (\"best\", \"random\")\n",
        "         }\n",
        "grid = RandomizedSearchCV(\n",
        "    model_DCT,\n",
        "    params,\n",
        "    n_jobs=4,\n",
        "    n_iter =20,\n",
        "    cv=10,\n",
        "    verbose=4,\n",
        "    scoring = \"accuracy\"\n",
        ")"
      ],
      "execution_count": 0,
      "outputs": []
    },
    {
      "cell_type": "code",
      "metadata": {
        "id": "7-hbpYvBODzz",
        "colab_type": "code",
        "colab": {},
        "outputId": "7e39c6ad-948e-4d37-b93a-8deda22de05e"
      },
      "source": [
        "clf = grid.fit(X_train, y_train)"
      ],
      "execution_count": 0,
      "outputs": [
        {
          "output_type": "stream",
          "text": [
            "Fitting 10 folds for each of 20 candidates, totalling 200 fits\n"
          ],
          "name": "stdout"
        },
        {
          "output_type": "stream",
          "text": [
            "[Parallel(n_jobs=4)]: Using backend LokyBackend with 4 concurrent workers.\n",
            "[Parallel(n_jobs=4)]: Done  17 tasks      | elapsed:   51.5s\n",
            "[Parallel(n_jobs=4)]: Done  90 tasks      | elapsed:  1.5min\n",
            "[Parallel(n_jobs=4)]: Done 200 out of 200 | elapsed:  2.5min finished\n"
          ],
          "name": "stderr"
        }
      ]
    },
    {
      "cell_type": "code",
      "metadata": {
        "id": "_vfJ1EooODz_",
        "colab_type": "code",
        "colab": {},
        "outputId": "9aa17300-fb37-4dcd-a535-f90526c15ff3"
      },
      "source": [
        "clf.best_params_"
      ],
      "execution_count": 0,
      "outputs": [
        {
          "output_type": "execute_result",
          "data": {
            "text/plain": [
              "{'splitter': 'best', 'random_state': 13, 'criterion': 'entropy'}"
            ]
          },
          "metadata": {
            "tags": []
          },
          "execution_count": 84
        }
      ]
    },
    {
      "cell_type": "code",
      "metadata": {
        "id": "wnU8MdOsOD0K",
        "colab_type": "code",
        "colab": {}
      },
      "source": [
        "model_DCT = DecisionTreeClassifier(criterion =  'entropy', random_state= 13, splitter = 'best')"
      ],
      "execution_count": 0,
      "outputs": []
    },
    {
      "cell_type": "code",
      "metadata": {
        "id": "GD2vsGXAOD0U",
        "colab_type": "code",
        "colab": {},
        "outputId": "412793c9-e20d-4a12-b173-9052b93dcac0"
      },
      "source": [
        "model_DCT.fit(X_train, y_train)"
      ],
      "execution_count": 0,
      "outputs": [
        {
          "output_type": "execute_result",
          "data": {
            "text/plain": [
              "DecisionTreeClassifier(ccp_alpha=0.0, class_weight=None, criterion='entropy',\n",
              "                       max_depth=None, max_features=None, max_leaf_nodes=None,\n",
              "                       min_impurity_decrease=0.0, min_impurity_split=None,\n",
              "                       min_samples_leaf=1, min_samples_split=2,\n",
              "                       min_weight_fraction_leaf=0.0, presort='deprecated',\n",
              "                       random_state=13, splitter='best')"
            ]
          },
          "metadata": {
            "tags": []
          },
          "execution_count": 87
        }
      ]
    },
    {
      "cell_type": "code",
      "metadata": {
        "id": "ypxB5oQtOD0f",
        "colab_type": "code",
        "colab": {}
      },
      "source": [
        "y_predict_DCT = model_DCT.predict(X_test)"
      ],
      "execution_count": 0,
      "outputs": []
    },
    {
      "cell_type": "markdown",
      "metadata": {
        "id": "E56FxL2FOD0o",
        "colab_type": "text"
      },
      "source": [
        "# Model Random Forest"
      ]
    },
    {
      "cell_type": "code",
      "metadata": {
        "id": "PkAhCRMNOD0q",
        "colab_type": "code",
        "colab": {}
      },
      "source": [
        "#model random forest\n",
        "from sklearn.ensemble import RandomForestClassifier\n",
        "model_RFC = RandomForestClassifier()"
      ],
      "execution_count": 0,
      "outputs": []
    },
    {
      "cell_type": "code",
      "metadata": {
        "id": "r9ufI3qyOD01",
        "colab_type": "code",
        "colab": {}
      },
      "source": [
        "from sklearn.model_selection  import RandomizedSearchCV\n",
        "params = {\"criterion\" : (\"gini\", \"entropy\"),\n",
        "         \"n_estimators\" : range(10,101),\n",
        "          \"max_depth\" : range(0,10), \n",
        "          \"random_state\" : range(0,10),\n",
        "          \"max_features\" : (\"auto\", \"sqrt\", \"log2\")\n",
        "         }\n",
        "grid = RandomizedSearchCV(\n",
        "    model_RFC,\n",
        "    params,\n",
        "    n_jobs=4,\n",
        "    n_iter =20,\n",
        "    cv=10,\n",
        "    verbose=4,\n",
        "    scoring = \"accuracy\"\n",
        ")"
      ],
      "execution_count": 0,
      "outputs": []
    },
    {
      "cell_type": "code",
      "metadata": {
        "id": "BefqpPIdOD0_",
        "colab_type": "code",
        "colab": {},
        "outputId": "cf86b704-f2f2-4842-cf40-1bee4c32c8b6"
      },
      "source": [
        "clf = grid.fit(X_train, y_train)"
      ],
      "execution_count": 0,
      "outputs": [
        {
          "output_type": "stream",
          "text": [
            "Fitting 10 folds for each of 20 candidates, totalling 200 fits\n"
          ],
          "name": "stdout"
        },
        {
          "output_type": "stream",
          "text": [
            "[Parallel(n_jobs=4)]: Using backend LokyBackend with 4 concurrent workers.\n",
            "[Parallel(n_jobs=4)]: Done  17 tasks      | elapsed:   42.0s\n",
            "[Parallel(n_jobs=4)]: Done  90 tasks      | elapsed:  2.1min\n",
            "[Parallel(n_jobs=4)]: Done 200 out of 200 | elapsed:  5.0min finished\n"
          ],
          "name": "stderr"
        }
      ]
    },
    {
      "cell_type": "code",
      "metadata": {
        "id": "8LC50XeYOD1g",
        "colab_type": "code",
        "colab": {},
        "outputId": "a510a0b9-d542-4b8c-d1c2-247897efc274"
      },
      "source": [
        "clf.best_params_"
      ],
      "execution_count": 0,
      "outputs": [
        {
          "output_type": "execute_result",
          "data": {
            "text/plain": [
              "{'random_state': 1,\n",
              " 'n_estimators': 39,\n",
              " 'max_features': 'sqrt',\n",
              " 'max_depth': 9,\n",
              " 'criterion': 'entropy'}"
            ]
          },
          "metadata": {
            "tags": []
          },
          "execution_count": 129
        }
      ]
    },
    {
      "cell_type": "code",
      "metadata": {
        "id": "Jw6MLRuROD1p",
        "colab_type": "code",
        "colab": {}
      },
      "source": [
        "model_RFC = RandomForestClassifier(max_features= 'sqrt',criterion=\"entropy\", n_estimators=100, random_state=1, max_depth=9)"
      ],
      "execution_count": 0,
      "outputs": []
    },
    {
      "cell_type": "code",
      "metadata": {
        "id": "D6ri3mNrOD1z",
        "colab_type": "code",
        "colab": {},
        "outputId": "fa6baa16-523f-4952-ae84-168466c09556"
      },
      "source": [
        "model_RFC.fit(X_train, y_train)"
      ],
      "execution_count": 0,
      "outputs": [
        {
          "output_type": "execute_result",
          "data": {
            "text/plain": [
              "RandomForestClassifier(bootstrap=True, ccp_alpha=0.0, class_weight=None,\n",
              "                       criterion='entropy', max_depth=9, max_features='sqrt',\n",
              "                       max_leaf_nodes=None, max_samples=None,\n",
              "                       min_impurity_decrease=0.0, min_impurity_split=None,\n",
              "                       min_samples_leaf=1, min_samples_split=2,\n",
              "                       min_weight_fraction_leaf=0.0, n_estimators=100,\n",
              "                       n_jobs=None, oob_score=False, random_state=1, verbose=0,\n",
              "                       warm_start=False)"
            ]
          },
          "metadata": {
            "tags": []
          },
          "execution_count": 188
        }
      ]
    },
    {
      "cell_type": "code",
      "metadata": {
        "id": "yF5IES_rOD17",
        "colab_type": "code",
        "colab": {}
      },
      "source": [
        "y_predict_RFC = model_RFC.predict(X_test)"
      ],
      "execution_count": 0,
      "outputs": []
    },
    {
      "cell_type": "markdown",
      "metadata": {
        "id": "9NaaSyEfOD2F",
        "colab_type": "text"
      },
      "source": [
        "# Evaluasi Model menggunakan Matriks AUC"
      ]
    },
    {
      "cell_type": "code",
      "metadata": {
        "id": "ag9jHIg1OD2J",
        "colab_type": "code",
        "colab": {}
      },
      "source": [
        "from sklearn.metrics import roc_auc_score, roc_curve\n",
        "fpr_KNN, tpr_KNN, _ = roc_curve(y_test, y_predict_KNN)\n",
        "fpr_DCT, tpr_DCT, _ = roc_curve(y_test, y_predict_DCT)\n",
        "fpr_RFC, tpr_RFC, _ = roc_curve(y_test, y_predict_RFC)"
      ],
      "execution_count": 0,
      "outputs": []
    },
    {
      "cell_type": "code",
      "metadata": {
        "id": "XZtB98nAOD2S",
        "colab_type": "code",
        "colab": {},
        "outputId": "3d5f663e-a666-4fc6-b43f-53900ccbb820"
      },
      "source": [
        "from matplotlib import pyplot as plt\n",
        "plt.figure(figsize=[12,10])\n",
        "plt.plot(fpr_KNN, tpr_KNN, label = \"Model KNN\")\n",
        "plt.plot(fpr_DCT, tpr_DCT, label = \"Model DCT\")\n",
        "plt.plot(fpr_RFC, tpr_RFC, label = \"Model RFC\")\n",
        "plt.title(\"ROC CURVE\")\n",
        "plt.xlabel(\"False Positive Rate\")\n",
        "plt.ylabel(\"True Positive Rate\")\n",
        "plt.legend()\n",
        "plt.show()"
      ],
      "execution_count": 0,
      "outputs": [
        {
          "output_type": "display_data",
          "data": {
            "image/png": "[encoded data removed]",
            "text/plain": [
              "<Figure size 864x720 with 1 Axes>"
            ]
          },
          "metadata": {
            "tags": [],
            "needs_background": "light"
          }
        }
      ]
    },
    {
      "cell_type": "code",
      "metadata": {
        "id": "YPQDt9M4OD2b",
        "colab_type": "code",
        "colab": {},
        "outputId": "25611ac5-492b-4602-b31a-08e6c8d614a0"
      },
      "source": [
        "Score_KNN = roc_auc_score(y_test, y_predict_KNN)\n",
        "Score_DCT = roc_auc_score(y_test, y_predict_DCT)\n",
        "print(\"score KNN : \", Score_KNN, \" dan score DCT : \", Score_DCT)"
      ],
      "execution_count": 0,
      "outputs": [
        {
          "output_type": "stream",
          "text": [
            "score KNN :  0.7475474148974837  dan score DCT :  0.7485474923582022\n"
          ],
          "name": "stdout"
        }
      ]
    },
    {
      "cell_type": "code",
      "metadata": {
        "id": "8yTn1iWKOD2k",
        "colab_type": "code",
        "colab": {},
        "outputId": "7b2657fa-b488-4f00-a1f7-cecbbe0bd727"
      },
      "source": [
        "Score_DCT = roc_auc_score(y_test, y_predict_DCT)\n",
        "Score_KNN = roc_auc_score(y_test, y_predict_KNN)\n",
        "Score_RFC= roc_auc_score(y_test, y_predict_RFC)\n",
        "print(\"score KNN : \", Score_KNN, \" dan score DCT : \", Score_DCT,\" dan score RFC : \", Score_RFC)"
      ],
      "execution_count": 0,
      "outputs": [
        {
          "output_type": "stream",
          "text": [
            "score KNN :  0.7475474148974837  dan score DCT :  0.7485474923582022  dan score RFC :  0.7504034213803501\n"
          ],
          "name": "stdout"
        }
      ]
    },
    {
      "cell_type": "markdown",
      "metadata": {
        "id": "9Py0gqTsOD2r",
        "colab_type": "text"
      },
      "source": [
        " <h4> Berdasarkan hasil score yang di peroleh, maka model yang akan di pakai adalah model Random Forest </h4>"
      ]
    },
    {
      "cell_type": "markdown",
      "metadata": {
        "id": "v80U-rHJOD2t",
        "colab_type": "text"
      },
      "source": [
        "# Melakukan Prediksi berdasarkan model yang terpilih"
      ]
    },
    {
      "cell_type": "code",
      "metadata": {
        "id": "fkF4xcWKOD2u",
        "colab_type": "code",
        "colab": {
          "base_uri": "https://localhost:8080/",
          "height": 289
        },
        "outputId": "9d3d1e8a-9f69-4612-8b59-5d0afb6d35dc"
      },
      "source": [
        "data_test = pd.read_csv(\"/content/drive/My Drive/Untitled Folder/Pendapatan_test.csv\")\n",
        "data_test.head()"
      ],
      "execution_count": 6,
      "outputs": [
        {
          "output_type": "execute_result",
          "data": {
            "text/html": [
              "<div>\n",
              "<style scoped>\n",
              "    .dataframe tbody tr th:only-of-type {\n",
              "        vertical-align: middle;\n",
              "    }\n",
              "\n",
              "    .dataframe tbody tr th {\n",
              "        vertical-align: top;\n",
              "    }\n",
              "\n",
              "    .dataframe thead th {\n",
              "        text-align: right;\n",
              "    }\n",
              "</style>\n",
              "<table border=\"1\" class=\"dataframe\">\n",
              "  <thead>\n",
              "    <tr style=\"text-align: right;\">\n",
              "      <th></th>\n",
              "      <th>id</th>\n",
              "      <th>Umur</th>\n",
              "      <th>Kelas Pekerja</th>\n",
              "      <th>Berat Akhir</th>\n",
              "      <th>Pendidikan</th>\n",
              "      <th>Jmlh Tahun Pendidikan</th>\n",
              "      <th>Status Perkawinan</th>\n",
              "      <th>Pekerjaan</th>\n",
              "      <th>Jenis Kelamin</th>\n",
              "      <th>Keuntungan Kapital</th>\n",
              "      <th>Kerugian Capital</th>\n",
              "      <th>Jam per Minggu</th>\n",
              "    </tr>\n",
              "  </thead>\n",
              "  <tbody>\n",
              "    <tr>\n",
              "      <th>0</th>\n",
              "      <td>47933</td>\n",
              "      <td>30</td>\n",
              "      <td>Pemerintah Lokal</td>\n",
              "      <td>99761</td>\n",
              "      <td>D4</td>\n",
              "      <td>11</td>\n",
              "      <td>Cerai</td>\n",
              "      <td>Pemuka Agama</td>\n",
              "      <td>Perempuan</td>\n",
              "      <td>0.0</td>\n",
              "      <td>0.0</td>\n",
              "      <td>40.0</td>\n",
              "    </tr>\n",
              "    <tr>\n",
              "      <th>1</th>\n",
              "      <td>44213</td>\n",
              "      <td>28</td>\n",
              "      <td>Wiraswasta</td>\n",
              "      <td>202206</td>\n",
              "      <td>SMA</td>\n",
              "      <td>9</td>\n",
              "      <td>Menikah</td>\n",
              "      <td>Mesin Inspeksi</td>\n",
              "      <td>Laki2</td>\n",
              "      <td>0.0</td>\n",
              "      <td>0.0</td>\n",
              "      <td>50.0</td>\n",
              "    </tr>\n",
              "    <tr>\n",
              "      <th>2</th>\n",
              "      <td>20823</td>\n",
              "      <td>34</td>\n",
              "      <td>Pemerintah Provinsi</td>\n",
              "      <td>199934</td>\n",
              "      <td>Pendidikan Tinggi</td>\n",
              "      <td>10</td>\n",
              "      <td>Menikah</td>\n",
              "      <td>Pemuka Agama</td>\n",
              "      <td>Laki2</td>\n",
              "      <td>0.0</td>\n",
              "      <td>0.0</td>\n",
              "      <td>40.0</td>\n",
              "    </tr>\n",
              "    <tr>\n",
              "      <th>3</th>\n",
              "      <td>40565</td>\n",
              "      <td>51</td>\n",
              "      <td>Wiraswasta</td>\n",
              "      <td>373448</td>\n",
              "      <td>Pendidikan Tinggi</td>\n",
              "      <td>10</td>\n",
              "      <td>Menikah</td>\n",
              "      <td>Ekesekutif Managerial</td>\n",
              "      <td>Laki2</td>\n",
              "      <td>0.0</td>\n",
              "      <td>28028000.0</td>\n",
              "      <td>40.0</td>\n",
              "    </tr>\n",
              "    <tr>\n",
              "      <th>4</th>\n",
              "      <td>9860</td>\n",
              "      <td>20</td>\n",
              "      <td>?</td>\n",
              "      <td>144685</td>\n",
              "      <td>Pendidikan Tinggi</td>\n",
              "      <td>10</td>\n",
              "      <td>Belum Pernah Menikah</td>\n",
              "      <td>?</td>\n",
              "      <td>Perempuan</td>\n",
              "      <td>0.0</td>\n",
              "      <td>22428000.0</td>\n",
              "      <td>40.0</td>\n",
              "    </tr>\n",
              "  </tbody>\n",
              "</table>\n",
              "</div>"
            ],
            "text/plain": [
              "      id  Umur  ... Kerugian Capital  Jam per Minggu\n",
              "0  47933    30  ...              0.0            40.0\n",
              "1  44213    28  ...              0.0            50.0\n",
              "2  20823    34  ...              0.0            40.0\n",
              "3  40565    51  ...       28028000.0            40.0\n",
              "4   9860    20  ...       22428000.0            40.0\n",
              "\n",
              "[5 rows x 12 columns]"
            ]
          },
          "metadata": {
            "tags": []
          },
          "execution_count": 6
        }
      ]
    },
    {
      "cell_type": "code",
      "metadata": {
        "id": "F0CM6NEJOD23",
        "colab_type": "code",
        "colab": {},
        "outputId": "70f91e72-314d-4ea0-a34f-e0f35cc15469"
      },
      "source": [
        "data_test['Jenis Kelamin'] = data_test['Jenis Kelamin'].replace(['Laki2', 'Perempuan'],[1,0])\n",
        "columns = ['Kelas Pekerja','Status Perkawinan','Pekerjaan','Pendidikan']\n",
        "data_test = pd.get_dummies(data_test,columns=columns )\n",
        "data_test.head()"
      ],
      "execution_count": 0,
      "outputs": [
        {
          "output_type": "execute_result",
          "data": {
            "text/html": [
              "<div>\n",
              "<style scoped>\n",
              "    .dataframe tbody tr th:only-of-type {\n",
              "        vertical-align: middle;\n",
              "    }\n",
              "\n",
              "    .dataframe tbody tr th {\n",
              "        vertical-align: top;\n",
              "    }\n",
              "\n",
              "    .dataframe thead th {\n",
              "        text-align: right;\n",
              "    }\n",
              "</style>\n",
              "<table border=\"1\" class=\"dataframe\">\n",
              "  <thead>\n",
              "    <tr style=\"text-align: right;\">\n",
              "      <th></th>\n",
              "      <th>id</th>\n",
              "      <th>Umur</th>\n",
              "      <th>Berat Akhir</th>\n",
              "      <th>Jmlh Tahun Pendidikan</th>\n",
              "      <th>Jenis Kelamin</th>\n",
              "      <th>Keuntungan Kapital</th>\n",
              "      <th>Kerugian Capital</th>\n",
              "      <th>Jam per Minggu</th>\n",
              "      <th>Kelas Pekerja_?</th>\n",
              "      <th>Kelas Pekerja_Pekerja Bebas Bukan Perusahan</th>\n",
              "      <th>...</th>\n",
              "      <th>Pendidikan_9th</th>\n",
              "      <th>Pendidikan_D3</th>\n",
              "      <th>Pendidikan_D4</th>\n",
              "      <th>Pendidikan_Doktor</th>\n",
              "      <th>Pendidikan_Master</th>\n",
              "      <th>Pendidikan_Pendidikan Tinggi</th>\n",
              "      <th>Pendidikan_SD</th>\n",
              "      <th>Pendidikan_SMA</th>\n",
              "      <th>Pendidikan_Sarjana</th>\n",
              "      <th>Pendidikan_Sekolah Professional</th>\n",
              "    </tr>\n",
              "  </thead>\n",
              "  <tbody>\n",
              "    <tr>\n",
              "      <th>0</th>\n",
              "      <td>47933</td>\n",
              "      <td>30</td>\n",
              "      <td>99761</td>\n",
              "      <td>11</td>\n",
              "      <td>0</td>\n",
              "      <td>0.0</td>\n",
              "      <td>0.0</td>\n",
              "      <td>40.0</td>\n",
              "      <td>0</td>\n",
              "      <td>0</td>\n",
              "      <td>...</td>\n",
              "      <td>0</td>\n",
              "      <td>0</td>\n",
              "      <td>1</td>\n",
              "      <td>0</td>\n",
              "      <td>0</td>\n",
              "      <td>0</td>\n",
              "      <td>0</td>\n",
              "      <td>0</td>\n",
              "      <td>0</td>\n",
              "      <td>0</td>\n",
              "    </tr>\n",
              "    <tr>\n",
              "      <th>1</th>\n",
              "      <td>44213</td>\n",
              "      <td>28</td>\n",
              "      <td>202206</td>\n",
              "      <td>9</td>\n",
              "      <td>1</td>\n",
              "      <td>0.0</td>\n",
              "      <td>0.0</td>\n",
              "      <td>50.0</td>\n",
              "      <td>0</td>\n",
              "      <td>0</td>\n",
              "      <td>...</td>\n",
              "      <td>0</td>\n",
              "      <td>0</td>\n",
              "      <td>0</td>\n",
              "      <td>0</td>\n",
              "      <td>0</td>\n",
              "      <td>0</td>\n",
              "      <td>0</td>\n",
              "      <td>1</td>\n",
              "      <td>0</td>\n",
              "      <td>0</td>\n",
              "    </tr>\n",
              "    <tr>\n",
              "      <th>2</th>\n",
              "      <td>20823</td>\n",
              "      <td>34</td>\n",
              "      <td>199934</td>\n",
              "      <td>10</td>\n",
              "      <td>1</td>\n",
              "      <td>0.0</td>\n",
              "      <td>0.0</td>\n",
              "      <td>40.0</td>\n",
              "      <td>0</td>\n",
              "      <td>0</td>\n",
              "      <td>...</td>\n",
              "      <td>0</td>\n",
              "      <td>0</td>\n",
              "      <td>0</td>\n",
              "      <td>0</td>\n",
              "      <td>0</td>\n",
              "      <td>1</td>\n",
              "      <td>0</td>\n",
              "      <td>0</td>\n",
              "      <td>0</td>\n",
              "      <td>0</td>\n",
              "    </tr>\n",
              "    <tr>\n",
              "      <th>3</th>\n",
              "      <td>40565</td>\n",
              "      <td>51</td>\n",
              "      <td>373448</td>\n",
              "      <td>10</td>\n",
              "      <td>1</td>\n",
              "      <td>0.0</td>\n",
              "      <td>28028000.0</td>\n",
              "      <td>40.0</td>\n",
              "      <td>0</td>\n",
              "      <td>0</td>\n",
              "      <td>...</td>\n",
              "      <td>0</td>\n",
              "      <td>0</td>\n",
              "      <td>0</td>\n",
              "      <td>0</td>\n",
              "      <td>0</td>\n",
              "      <td>1</td>\n",
              "      <td>0</td>\n",
              "      <td>0</td>\n",
              "      <td>0</td>\n",
              "      <td>0</td>\n",
              "    </tr>\n",
              "    <tr>\n",
              "      <th>4</th>\n",
              "      <td>9860</td>\n",
              "      <td>20</td>\n",
              "      <td>144685</td>\n",
              "      <td>10</td>\n",
              "      <td>0</td>\n",
              "      <td>0.0</td>\n",
              "      <td>22428000.0</td>\n",
              "      <td>40.0</td>\n",
              "      <td>1</td>\n",
              "      <td>0</td>\n",
              "      <td>...</td>\n",
              "      <td>0</td>\n",
              "      <td>0</td>\n",
              "      <td>0</td>\n",
              "      <td>0</td>\n",
              "      <td>0</td>\n",
              "      <td>1</td>\n",
              "      <td>0</td>\n",
              "      <td>0</td>\n",
              "      <td>0</td>\n",
              "      <td>0</td>\n",
              "    </tr>\n",
              "  </tbody>\n",
              "</table>\n",
              "<p>5 rows × 54 columns</p>\n",
              "</div>"
            ],
            "text/plain": [
              "      id  Umur  Berat Akhir  Jmlh Tahun Pendidikan  Jenis Kelamin  \\\n",
              "0  47933    30        99761                     11              0   \n",
              "1  44213    28       202206                      9              1   \n",
              "2  20823    34       199934                     10              1   \n",
              "3  40565    51       373448                     10              1   \n",
              "4   9860    20       144685                     10              0   \n",
              "\n",
              "   Keuntungan Kapital  Kerugian Capital  Jam per Minggu  Kelas Pekerja_?  \\\n",
              "0                 0.0               0.0            40.0                0   \n",
              "1                 0.0               0.0            50.0                0   \n",
              "2                 0.0               0.0            40.0                0   \n",
              "3                 0.0        28028000.0            40.0                0   \n",
              "4                 0.0        22428000.0            40.0                1   \n",
              "\n",
              "   Kelas Pekerja_Pekerja Bebas Bukan Perusahan  ...  Pendidikan_9th  \\\n",
              "0                                            0  ...               0   \n",
              "1                                            0  ...               0   \n",
              "2                                            0  ...               0   \n",
              "3                                            0  ...               0   \n",
              "4                                            0  ...               0   \n",
              "\n",
              "   Pendidikan_D3  Pendidikan_D4  Pendidikan_Doktor  Pendidikan_Master  \\\n",
              "0              0              1                  0                  0   \n",
              "1              0              0                  0                  0   \n",
              "2              0              0                  0                  0   \n",
              "3              0              0                  0                  0   \n",
              "4              0              0                  0                  0   \n",
              "\n",
              "   Pendidikan_Pendidikan Tinggi  Pendidikan_SD  Pendidikan_SMA  \\\n",
              "0                             0              0               0   \n",
              "1                             0              0               1   \n",
              "2                             1              0               0   \n",
              "3                             1              0               0   \n",
              "4                             1              0               0   \n",
              "\n",
              "   Pendidikan_Sarjana  Pendidikan_Sekolah Professional  \n",
              "0                   0                                0  \n",
              "1                   0                                0  \n",
              "2                   0                                0  \n",
              "3                   0                                0  \n",
              "4                   0                                0  \n",
              "\n",
              "[5 rows x 54 columns]"
            ]
          },
          "metadata": {
            "tags": []
          },
          "execution_count": 170
        }
      ]
    },
    {
      "cell_type": "code",
      "metadata": {
        "id": "93UjnV15OD2_",
        "colab_type": "code",
        "colab": {},
        "outputId": "53b7c145-14d9-4729-c8b0-d33aace65095"
      },
      "source": [
        "#standarisasi\n",
        "from sklearn.preprocessing import StandardScaler\n",
        "stdscaler = StandardScaler()\n",
        "datscaler = stdscaler.fit_transform(data_test)\n",
        "columns = list(data_test.columns)\n",
        "dfScaler = pd.DataFrame(data=datscaler, columns=columns)\n",
        "dfScaler.head()"
      ],
      "execution_count": 0,
      "outputs": [
        {
          "output_type": "execute_result",
          "data": {
            "text/html": [
              "<div>\n",
              "<style scoped>\n",
              "    .dataframe tbody tr th:only-of-type {\n",
              "        vertical-align: middle;\n",
              "    }\n",
              "\n",
              "    .dataframe tbody tr th {\n",
              "        vertical-align: top;\n",
              "    }\n",
              "\n",
              "    .dataframe thead th {\n",
              "        text-align: right;\n",
              "    }\n",
              "</style>\n",
              "<table border=\"1\" class=\"dataframe\">\n",
              "  <thead>\n",
              "    <tr style=\"text-align: right;\">\n",
              "      <th></th>\n",
              "      <th>id</th>\n",
              "      <th>Umur</th>\n",
              "      <th>Berat Akhir</th>\n",
              "      <th>Jmlh Tahun Pendidikan</th>\n",
              "      <th>Jenis Kelamin</th>\n",
              "      <th>Keuntungan Kapital</th>\n",
              "      <th>Kerugian Capital</th>\n",
              "      <th>Jam per Minggu</th>\n",
              "      <th>Kelas Pekerja_?</th>\n",
              "      <th>Kelas Pekerja_Pekerja Bebas Bukan Perusahan</th>\n",
              "      <th>...</th>\n",
              "      <th>Pendidikan_9th</th>\n",
              "      <th>Pendidikan_D3</th>\n",
              "      <th>Pendidikan_D4</th>\n",
              "      <th>Pendidikan_Doktor</th>\n",
              "      <th>Pendidikan_Master</th>\n",
              "      <th>Pendidikan_Pendidikan Tinggi</th>\n",
              "      <th>Pendidikan_SD</th>\n",
              "      <th>Pendidikan_SMA</th>\n",
              "      <th>Pendidikan_Sarjana</th>\n",
              "      <th>Pendidikan_Sekolah Professional</th>\n",
              "    </tr>\n",
              "  </thead>\n",
              "  <tbody>\n",
              "    <tr>\n",
              "      <th>0</th>\n",
              "      <td>1.742540</td>\n",
              "      <td>-0.612932</td>\n",
              "      <td>-0.847976</td>\n",
              "      <td>0.371785</td>\n",
              "      <td>-1.407829</td>\n",
              "      <td>-0.143024</td>\n",
              "      <td>-0.219254</td>\n",
              "      <td>-0.026687</td>\n",
              "      <td>-0.247012</td>\n",
              "      <td>-0.287321</td>\n",
              "      <td>...</td>\n",
              "      <td>-0.120773</td>\n",
              "      <td>-0.18329</td>\n",
              "      <td>4.692460</td>\n",
              "      <td>-0.104657</td>\n",
              "      <td>-0.236634</td>\n",
              "      <td>-0.541427</td>\n",
              "      <td>-0.039561</td>\n",
              "      <td>-0.689005</td>\n",
              "      <td>-0.44119</td>\n",
              "      <td>-0.126845</td>\n",
              "    </tr>\n",
              "    <tr>\n",
              "      <th>1</th>\n",
              "      <td>1.472632</td>\n",
              "      <td>-0.758052</td>\n",
              "      <td>0.114735</td>\n",
              "      <td>-0.413076</td>\n",
              "      <td>0.710314</td>\n",
              "      <td>-0.143024</td>\n",
              "      <td>-0.219254</td>\n",
              "      <td>0.779877</td>\n",
              "      <td>-0.247012</td>\n",
              "      <td>-0.287321</td>\n",
              "      <td>...</td>\n",
              "      <td>-0.120773</td>\n",
              "      <td>-0.18329</td>\n",
              "      <td>-0.213108</td>\n",
              "      <td>-0.104657</td>\n",
              "      <td>-0.236634</td>\n",
              "      <td>-0.541427</td>\n",
              "      <td>-0.039561</td>\n",
              "      <td>1.451369</td>\n",
              "      <td>-0.44119</td>\n",
              "      <td>-0.126845</td>\n",
              "    </tr>\n",
              "    <tr>\n",
              "      <th>2</th>\n",
              "      <td>-0.224453</td>\n",
              "      <td>-0.322692</td>\n",
              "      <td>0.093384</td>\n",
              "      <td>-0.020646</td>\n",
              "      <td>0.710314</td>\n",
              "      <td>-0.143024</td>\n",
              "      <td>-0.219254</td>\n",
              "      <td>-0.026687</td>\n",
              "      <td>-0.247012</td>\n",
              "      <td>-0.287321</td>\n",
              "      <td>...</td>\n",
              "      <td>-0.120773</td>\n",
              "      <td>-0.18329</td>\n",
              "      <td>-0.213108</td>\n",
              "      <td>-0.104657</td>\n",
              "      <td>-0.236634</td>\n",
              "      <td>1.846972</td>\n",
              "      <td>-0.039561</td>\n",
              "      <td>-0.689005</td>\n",
              "      <td>-0.44119</td>\n",
              "      <td>-0.126845</td>\n",
              "    </tr>\n",
              "    <tr>\n",
              "      <th>3</th>\n",
              "      <td>1.207947</td>\n",
              "      <td>0.910830</td>\n",
              "      <td>1.723954</td>\n",
              "      <td>-0.020646</td>\n",
              "      <td>0.710314</td>\n",
              "      <td>-0.143024</td>\n",
              "      <td>4.686112</td>\n",
              "      <td>-0.026687</td>\n",
              "      <td>-0.247012</td>\n",
              "      <td>-0.287321</td>\n",
              "      <td>...</td>\n",
              "      <td>-0.120773</td>\n",
              "      <td>-0.18329</td>\n",
              "      <td>-0.213108</td>\n",
              "      <td>-0.104657</td>\n",
              "      <td>-0.236634</td>\n",
              "      <td>1.846972</td>\n",
              "      <td>-0.039561</td>\n",
              "      <td>-0.689005</td>\n",
              "      <td>-0.44119</td>\n",
              "      <td>-0.126845</td>\n",
              "    </tr>\n",
              "    <tr>\n",
              "      <th>4</th>\n",
              "      <td>-1.019884</td>\n",
              "      <td>-1.338533</td>\n",
              "      <td>-0.425810</td>\n",
              "      <td>-0.020646</td>\n",
              "      <td>-1.407829</td>\n",
              "      <td>-0.143024</td>\n",
              "      <td>3.706019</td>\n",
              "      <td>-0.026687</td>\n",
              "      <td>4.048394</td>\n",
              "      <td>-0.287321</td>\n",
              "      <td>...</td>\n",
              "      <td>-0.120773</td>\n",
              "      <td>-0.18329</td>\n",
              "      <td>-0.213108</td>\n",
              "      <td>-0.104657</td>\n",
              "      <td>-0.236634</td>\n",
              "      <td>1.846972</td>\n",
              "      <td>-0.039561</td>\n",
              "      <td>-0.689005</td>\n",
              "      <td>-0.44119</td>\n",
              "      <td>-0.126845</td>\n",
              "    </tr>\n",
              "  </tbody>\n",
              "</table>\n",
              "<p>5 rows × 54 columns</p>\n",
              "</div>"
            ],
            "text/plain": [
              "         id      Umur  Berat Akhir  Jmlh Tahun Pendidikan  Jenis Kelamin  \\\n",
              "0  1.742540 -0.612932    -0.847976               0.371785      -1.407829   \n",
              "1  1.472632 -0.758052     0.114735              -0.413076       0.710314   \n",
              "2 -0.224453 -0.322692     0.093384              -0.020646       0.710314   \n",
              "3  1.207947  0.910830     1.723954              -0.020646       0.710314   \n",
              "4 -1.019884 -1.338533    -0.425810              -0.020646      -1.407829   \n",
              "\n",
              "   Keuntungan Kapital  Kerugian Capital  Jam per Minggu  Kelas Pekerja_?  \\\n",
              "0           -0.143024         -0.219254       -0.026687        -0.247012   \n",
              "1           -0.143024         -0.219254        0.779877        -0.247012   \n",
              "2           -0.143024         -0.219254       -0.026687        -0.247012   \n",
              "3           -0.143024          4.686112       -0.026687        -0.247012   \n",
              "4           -0.143024          3.706019       -0.026687         4.048394   \n",
              "\n",
              "   Kelas Pekerja_Pekerja Bebas Bukan Perusahan  ...  Pendidikan_9th  \\\n",
              "0                                    -0.287321  ...       -0.120773   \n",
              "1                                    -0.287321  ...       -0.120773   \n",
              "2                                    -0.287321  ...       -0.120773   \n",
              "3                                    -0.287321  ...       -0.120773   \n",
              "4                                    -0.287321  ...       -0.120773   \n",
              "\n",
              "   Pendidikan_D3  Pendidikan_D4  Pendidikan_Doktor  Pendidikan_Master  \\\n",
              "0       -0.18329       4.692460          -0.104657          -0.236634   \n",
              "1       -0.18329      -0.213108          -0.104657          -0.236634   \n",
              "2       -0.18329      -0.213108          -0.104657          -0.236634   \n",
              "3       -0.18329      -0.213108          -0.104657          -0.236634   \n",
              "4       -0.18329      -0.213108          -0.104657          -0.236634   \n",
              "\n",
              "   Pendidikan_Pendidikan Tinggi  Pendidikan_SD  Pendidikan_SMA  \\\n",
              "0                     -0.541427      -0.039561       -0.689005   \n",
              "1                     -0.541427      -0.039561        1.451369   \n",
              "2                      1.846972      -0.039561       -0.689005   \n",
              "3                      1.846972      -0.039561       -0.689005   \n",
              "4                      1.846972      -0.039561       -0.689005   \n",
              "\n",
              "   Pendidikan_Sarjana  Pendidikan_Sekolah Professional  \n",
              "0            -0.44119                        -0.126845  \n",
              "1            -0.44119                        -0.126845  \n",
              "2            -0.44119                        -0.126845  \n",
              "3            -0.44119                        -0.126845  \n",
              "4            -0.44119                        -0.126845  \n",
              "\n",
              "[5 rows x 54 columns]"
            ]
          },
          "metadata": {
            "tags": []
          },
          "execution_count": 171
        }
      ]
    },
    {
      "cell_type": "code",
      "metadata": {
        "id": "-GbdrT3pOD3I",
        "colab_type": "code",
        "colab": {}
      },
      "source": [
        "X_test_predict = dfScaler.drop(columns=\"id\")"
      ],
      "execution_count": 0,
      "outputs": []
    },
    {
      "cell_type": "code",
      "metadata": {
        "id": "cGKy7oXdOD3S",
        "colab_type": "code",
        "colab": {}
      },
      "source": [
        "#melakukan prediksi bedasarkan model yang telah di buat\n",
        "y_predict_test = model_DCT.predict(X_test_predict)"
      ],
      "execution_count": 0,
      "outputs": []
    },
    {
      "cell_type": "code",
      "metadata": {
        "id": "RAJrrNwsOD3b",
        "colab_type": "code",
        "colab": {}
      },
      "source": [
        "hasil_gaji = pd.DataFrame({\"Gaji\" : y_predict_test})"
      ],
      "execution_count": 0,
      "outputs": []
    },
    {
      "cell_type": "code",
      "metadata": {
        "id": "ZZE7C1PSOD3k",
        "colab_type": "code",
        "colab": {},
        "outputId": "c2b296a7-ab47-4c46-8cab-cbab71b7618a"
      },
      "source": [
        "hasil_gaji.head()"
      ],
      "execution_count": 0,
      "outputs": [
        {
          "output_type": "execute_result",
          "data": {
            "text/html": [
              "<div>\n",
              "<style scoped>\n",
              "    .dataframe tbody tr th:only-of-type {\n",
              "        vertical-align: middle;\n",
              "    }\n",
              "\n",
              "    .dataframe tbody tr th {\n",
              "        vertical-align: top;\n",
              "    }\n",
              "\n",
              "    .dataframe thead th {\n",
              "        text-align: right;\n",
              "    }\n",
              "</style>\n",
              "<table border=\"1\" class=\"dataframe\">\n",
              "  <thead>\n",
              "    <tr style=\"text-align: right;\">\n",
              "      <th></th>\n",
              "      <th>Gaji</th>\n",
              "    </tr>\n",
              "  </thead>\n",
              "  <tbody>\n",
              "    <tr>\n",
              "      <th>0</th>\n",
              "      <td>0</td>\n",
              "    </tr>\n",
              "    <tr>\n",
              "      <th>1</th>\n",
              "      <td>0</td>\n",
              "    </tr>\n",
              "    <tr>\n",
              "      <th>2</th>\n",
              "      <td>1</td>\n",
              "    </tr>\n",
              "    <tr>\n",
              "      <th>3</th>\n",
              "      <td>1</td>\n",
              "    </tr>\n",
              "    <tr>\n",
              "      <th>4</th>\n",
              "      <td>0</td>\n",
              "    </tr>\n",
              "  </tbody>\n",
              "</table>\n",
              "</div>"
            ],
            "text/plain": [
              "   Gaji\n",
              "0     0\n",
              "1     0\n",
              "2     1\n",
              "3     1\n",
              "4     0"
            ]
          },
          "metadata": {
            "tags": []
          },
          "execution_count": 281
        }
      ]
    },
    {
      "cell_type": "code",
      "metadata": {
        "id": "URMH6JBsOD3s",
        "colab_type": "code",
        "colab": {
          "base_uri": "https://localhost:8080/",
          "height": 289
        },
        "outputId": "3f9ad12b-28f2-455c-cf27-39697dc47cab"
      },
      "source": [
        "data_test = pd.read_csv(\"/content/drive/My Drive/Untitled Folder/Pendapatan_test.csv\")\n",
        "data_test.head()"
      ],
      "execution_count": 7,
      "outputs": [
        {
          "output_type": "execute_result",
          "data": {
            "text/html": [
              "<div>\n",
              "<style scoped>\n",
              "    .dataframe tbody tr th:only-of-type {\n",
              "        vertical-align: middle;\n",
              "    }\n",
              "\n",
              "    .dataframe tbody tr th {\n",
              "        vertical-align: top;\n",
              "    }\n",
              "\n",
              "    .dataframe thead th {\n",
              "        text-align: right;\n",
              "    }\n",
              "</style>\n",
              "<table border=\"1\" class=\"dataframe\">\n",
              "  <thead>\n",
              "    <tr style=\"text-align: right;\">\n",
              "      <th></th>\n",
              "      <th>id</th>\n",
              "      <th>Umur</th>\n",
              "      <th>Kelas Pekerja</th>\n",
              "      <th>Berat Akhir</th>\n",
              "      <th>Pendidikan</th>\n",
              "      <th>Jmlh Tahun Pendidikan</th>\n",
              "      <th>Status Perkawinan</th>\n",
              "      <th>Pekerjaan</th>\n",
              "      <th>Jenis Kelamin</th>\n",
              "      <th>Keuntungan Kapital</th>\n",
              "      <th>Kerugian Capital</th>\n",
              "      <th>Jam per Minggu</th>\n",
              "    </tr>\n",
              "  </thead>\n",
              "  <tbody>\n",
              "    <tr>\n",
              "      <th>0</th>\n",
              "      <td>47933</td>\n",
              "      <td>30</td>\n",
              "      <td>Pemerintah Lokal</td>\n",
              "      <td>99761</td>\n",
              "      <td>D4</td>\n",
              "      <td>11</td>\n",
              "      <td>Cerai</td>\n",
              "      <td>Pemuka Agama</td>\n",
              "      <td>Perempuan</td>\n",
              "      <td>0.0</td>\n",
              "      <td>0.0</td>\n",
              "      <td>40.0</td>\n",
              "    </tr>\n",
              "    <tr>\n",
              "      <th>1</th>\n",
              "      <td>44213</td>\n",
              "      <td>28</td>\n",
              "      <td>Wiraswasta</td>\n",
              "      <td>202206</td>\n",
              "      <td>SMA</td>\n",
              "      <td>9</td>\n",
              "      <td>Menikah</td>\n",
              "      <td>Mesin Inspeksi</td>\n",
              "      <td>Laki2</td>\n",
              "      <td>0.0</td>\n",
              "      <td>0.0</td>\n",
              "      <td>50.0</td>\n",
              "    </tr>\n",
              "    <tr>\n",
              "      <th>2</th>\n",
              "      <td>20823</td>\n",
              "      <td>34</td>\n",
              "      <td>Pemerintah Provinsi</td>\n",
              "      <td>199934</td>\n",
              "      <td>Pendidikan Tinggi</td>\n",
              "      <td>10</td>\n",
              "      <td>Menikah</td>\n",
              "      <td>Pemuka Agama</td>\n",
              "      <td>Laki2</td>\n",
              "      <td>0.0</td>\n",
              "      <td>0.0</td>\n",
              "      <td>40.0</td>\n",
              "    </tr>\n",
              "    <tr>\n",
              "      <th>3</th>\n",
              "      <td>40565</td>\n",
              "      <td>51</td>\n",
              "      <td>Wiraswasta</td>\n",
              "      <td>373448</td>\n",
              "      <td>Pendidikan Tinggi</td>\n",
              "      <td>10</td>\n",
              "      <td>Menikah</td>\n",
              "      <td>Ekesekutif Managerial</td>\n",
              "      <td>Laki2</td>\n",
              "      <td>0.0</td>\n",
              "      <td>28028000.0</td>\n",
              "      <td>40.0</td>\n",
              "    </tr>\n",
              "    <tr>\n",
              "      <th>4</th>\n",
              "      <td>9860</td>\n",
              "      <td>20</td>\n",
              "      <td>?</td>\n",
              "      <td>144685</td>\n",
              "      <td>Pendidikan Tinggi</td>\n",
              "      <td>10</td>\n",
              "      <td>Belum Pernah Menikah</td>\n",
              "      <td>?</td>\n",
              "      <td>Perempuan</td>\n",
              "      <td>0.0</td>\n",
              "      <td>22428000.0</td>\n",
              "      <td>40.0</td>\n",
              "    </tr>\n",
              "  </tbody>\n",
              "</table>\n",
              "</div>"
            ],
            "text/plain": [
              "      id  Umur  ... Kerugian Capital  Jam per Minggu\n",
              "0  47933    30  ...              0.0            40.0\n",
              "1  44213    28  ...              0.0            50.0\n",
              "2  20823    34  ...              0.0            40.0\n",
              "3  40565    51  ...       28028000.0            40.0\n",
              "4   9860    20  ...       22428000.0            40.0\n",
              "\n",
              "[5 rows x 12 columns]"
            ]
          },
          "metadata": {
            "tags": []
          },
          "execution_count": 7
        }
      ]
    },
    {
      "cell_type": "code",
      "metadata": {
        "id": "r5ZDCz5sOD3z",
        "colab_type": "code",
        "colab": {},
        "outputId": "318ac0cf-22f5-4630-93ab-6d1402182122"
      },
      "source": [
        "#menggabungkan data hasil \n",
        "hasil = pd.concat([data_test,hasil_gaji], axis=1)\n",
        "hasil.head()"
      ],
      "execution_count": 0,
      "outputs": [
        {
          "output_type": "execute_result",
          "data": {
            "text/html": [
              "<div>\n",
              "<style scoped>\n",
              "    .dataframe tbody tr th:only-of-type {\n",
              "        vertical-align: middle;\n",
              "    }\n",
              "\n",
              "    .dataframe tbody tr th {\n",
              "        vertical-align: top;\n",
              "    }\n",
              "\n",
              "    .dataframe thead th {\n",
              "        text-align: right;\n",
              "    }\n",
              "</style>\n",
              "<table border=\"1\" class=\"dataframe\">\n",
              "  <thead>\n",
              "    <tr style=\"text-align: right;\">\n",
              "      <th></th>\n",
              "      <th>id</th>\n",
              "      <th>Umur</th>\n",
              "      <th>Kelas Pekerja</th>\n",
              "      <th>Berat Akhir</th>\n",
              "      <th>Pendidikan</th>\n",
              "      <th>Jmlh Tahun Pendidikan</th>\n",
              "      <th>Status Perkawinan</th>\n",
              "      <th>Pekerjaan</th>\n",
              "      <th>Jenis Kelamin</th>\n",
              "      <th>Keuntungan Kapital</th>\n",
              "      <th>Kerugian Capital</th>\n",
              "      <th>Jam per Minggu</th>\n",
              "      <th>Gaji</th>\n",
              "    </tr>\n",
              "  </thead>\n",
              "  <tbody>\n",
              "    <tr>\n",
              "      <th>0</th>\n",
              "      <td>47933</td>\n",
              "      <td>30</td>\n",
              "      <td>Pemerintah Lokal</td>\n",
              "      <td>99761</td>\n",
              "      <td>D4</td>\n",
              "      <td>11</td>\n",
              "      <td>Cerai</td>\n",
              "      <td>Pemuka Agama</td>\n",
              "      <td>Perempuan</td>\n",
              "      <td>0.0</td>\n",
              "      <td>0.0</td>\n",
              "      <td>40.0</td>\n",
              "      <td>0</td>\n",
              "    </tr>\n",
              "    <tr>\n",
              "      <th>1</th>\n",
              "      <td>44213</td>\n",
              "      <td>28</td>\n",
              "      <td>Wiraswasta</td>\n",
              "      <td>202206</td>\n",
              "      <td>SMA</td>\n",
              "      <td>9</td>\n",
              "      <td>Menikah</td>\n",
              "      <td>Mesin Inspeksi</td>\n",
              "      <td>Laki2</td>\n",
              "      <td>0.0</td>\n",
              "      <td>0.0</td>\n",
              "      <td>50.0</td>\n",
              "      <td>0</td>\n",
              "    </tr>\n",
              "    <tr>\n",
              "      <th>2</th>\n",
              "      <td>20823</td>\n",
              "      <td>34</td>\n",
              "      <td>Pemerintah Provinsi</td>\n",
              "      <td>199934</td>\n",
              "      <td>Pendidikan Tinggi</td>\n",
              "      <td>10</td>\n",
              "      <td>Menikah</td>\n",
              "      <td>Pemuka Agama</td>\n",
              "      <td>Laki2</td>\n",
              "      <td>0.0</td>\n",
              "      <td>0.0</td>\n",
              "      <td>40.0</td>\n",
              "      <td>1</td>\n",
              "    </tr>\n",
              "    <tr>\n",
              "      <th>3</th>\n",
              "      <td>40565</td>\n",
              "      <td>51</td>\n",
              "      <td>Wiraswasta</td>\n",
              "      <td>373448</td>\n",
              "      <td>Pendidikan Tinggi</td>\n",
              "      <td>10</td>\n",
              "      <td>Menikah</td>\n",
              "      <td>Ekesekutif Managerial</td>\n",
              "      <td>Laki2</td>\n",
              "      <td>0.0</td>\n",
              "      <td>28028000.0</td>\n",
              "      <td>40.0</td>\n",
              "      <td>1</td>\n",
              "    </tr>\n",
              "    <tr>\n",
              "      <th>4</th>\n",
              "      <td>9860</td>\n",
              "      <td>20</td>\n",
              "      <td>?</td>\n",
              "      <td>144685</td>\n",
              "      <td>Pendidikan Tinggi</td>\n",
              "      <td>10</td>\n",
              "      <td>Belum Pernah Menikah</td>\n",
              "      <td>?</td>\n",
              "      <td>Perempuan</td>\n",
              "      <td>0.0</td>\n",
              "      <td>22428000.0</td>\n",
              "      <td>40.0</td>\n",
              "      <td>0</td>\n",
              "    </tr>\n",
              "  </tbody>\n",
              "</table>\n",
              "</div>"
            ],
            "text/plain": [
              "      id  Umur        Kelas Pekerja  Berat Akhir         Pendidikan  \\\n",
              "0  47933    30     Pemerintah Lokal        99761                 D4   \n",
              "1  44213    28           Wiraswasta       202206                SMA   \n",
              "2  20823    34  Pemerintah Provinsi       199934  Pendidikan Tinggi   \n",
              "3  40565    51           Wiraswasta       373448  Pendidikan Tinggi   \n",
              "4   9860    20                    ?       144685  Pendidikan Tinggi   \n",
              "\n",
              "   Jmlh Tahun Pendidikan     Status Perkawinan              Pekerjaan  \\\n",
              "0                     11                 Cerai           Pemuka Agama   \n",
              "1                      9               Menikah         Mesin Inspeksi   \n",
              "2                     10               Menikah           Pemuka Agama   \n",
              "3                     10               Menikah  Ekesekutif Managerial   \n",
              "4                     10  Belum Pernah Menikah                      ?   \n",
              "\n",
              "  Jenis Kelamin  Keuntungan Kapital  Kerugian Capital  Jam per Minggu  Gaji  \n",
              "0     Perempuan                 0.0               0.0            40.0     0  \n",
              "1         Laki2                 0.0               0.0            50.0     0  \n",
              "2         Laki2                 0.0               0.0            40.0     1  \n",
              "3         Laki2                 0.0        28028000.0            40.0     1  \n",
              "4     Perempuan                 0.0        22428000.0            40.0     0  "
            ]
          },
          "metadata": {
            "tags": []
          },
          "execution_count": 283
        }
      ]
    },
    {
      "cell_type": "code",
      "metadata": {
        "id": "YhfPM3diOD37",
        "colab_type": "code",
        "colab": {}
      },
      "source": [
        "hasil_fix = pd.concat([data_test['id'],hasil_gaji], axis=1)"
      ],
      "execution_count": 0,
      "outputs": []
    },
    {
      "cell_type": "code",
      "metadata": {
        "id": "kDDpnlkSOD4F",
        "colab_type": "code",
        "colab": {}
      },
      "source": [
        "hasil_fix.to_csv(\"hasil_gaji_DCT.csv\", index=False)"
      ],
      "execution_count": 0,
      "outputs": []
    },
    {
      "cell_type": "code",
      "metadata": {
        "id": "G5Hqe2y0OD4Y",
        "colab_type": "code",
        "colab": {}
      },
      "source": [
        "RFC  = pd.read_csv(\"hasil_gaji_RFC.csv\")\n",
        "DCT  = pd.read_csv(\"hasil_gaji_DCT.csv\")\n",
        "KNN  = pd.read_csv(\"hasil_gaji_KNN.csv\")"
      ],
      "execution_count": 0,
      "outputs": []
    },
    {
      "cell_type": "code",
      "metadata": {
        "id": "mFLW5TqjOD4f",
        "colab_type": "code",
        "colab": {},
        "outputId": "d2f1a6b3-3970-4b64-e5b2-07d86c4f849c"
      },
      "source": [
        "RFC['Gaji'].value_counts()"
      ],
      "execution_count": 0,
      "outputs": [
        {
          "output_type": "execute_result",
          "data": {
            "text/plain": [
              "0    8107\n",
              "1    1492\n",
              "Name: Gaji, dtype: int64"
            ]
          },
          "metadata": {
            "tags": []
          },
          "execution_count": 287
        }
      ]
    },
    {
      "cell_type": "code",
      "metadata": {
        "id": "ebv0-9TxOD4l",
        "colab_type": "code",
        "colab": {},
        "outputId": "488950b5-8742-4fae-a385-8ca774cd93d3"
      },
      "source": [
        "DCT['Gaji'].value_counts()"
      ],
      "execution_count": 0,
      "outputs": [
        {
          "output_type": "execute_result",
          "data": {
            "text/plain": [
              "0    7302\n",
              "1    2297\n",
              "Name: Gaji, dtype: int64"
            ]
          },
          "metadata": {
            "tags": []
          },
          "execution_count": 288
        }
      ]
    },
    {
      "cell_type": "code",
      "metadata": {
        "id": "2tcQA8F1OD4s",
        "colab_type": "code",
        "colab": {},
        "outputId": "4ba36424-90d4-4e69-ecbb-4c647f75f0bc"
      },
      "source": [
        "KNN['Gaji'].value_counts()"
      ],
      "execution_count": 0,
      "outputs": [
        {
          "output_type": "execute_result",
          "data": {
            "text/plain": [
              "0    7707\n",
              "1    1892\n",
              "Name: Gaji, dtype: int64"
            ]
          },
          "metadata": {
            "tags": []
          },
          "execution_count": 289
        }
      ]
    },
    {
      "cell_type": "code",
      "metadata": {
        "id": "OxulkR1BOD4z",
        "colab_type": "code",
        "colab": {}
      },
      "source": [
        ""
      ],
      "execution_count": 0,
      "outputs": []
    }
  ]
}